{
 "cells": [
  {
   "cell_type": "code",
   "execution_count": null,
   "metadata": {},
   "outputs": [],
   "source": [
    "import torch\n",
    "import torch.nn as nn\n",
    "\n",
    "import pandas as pd\n",
    "from torch.utils.data import TensorDataset, DataLoader\n",
    "from sklearn.preprocessing import MinMaxScaler\n",
    "\n",
    "from Utils import MultilayerPerceptron"
   ]
  },
  {
   "cell_type": "markdown",
   "metadata": {},
   "source": [
    "**Reading the Dataset**"
   ]
  },
  {
   "cell_type": "code",
   "execution_count": null,
   "metadata": {},
   "outputs": [],
   "source": [
    "dataset = pd.read_csv('./data.csv')\n",
    "dataset_label = pd.read_csv('./label.csv')"
   ]
  },
  {
   "cell_type": "markdown",
   "metadata": {},
   "source": [
    "**Normalizing the data wiith MinMax scaler**"
   ]
  },
  {
   "cell_type": "code",
   "execution_count": null,
   "metadata": {},
   "outputs": [],
   "source": [
    "scaler = MinMaxScaler()\n",
    "scaler.fit(dataset)\n",
    "dataset = scaler.transform(dataset)"
   ]
  },
  {
   "cell_type": "markdown",
   "metadata": {},
   "source": [
    "**Converting the dataset and labels to Torch Tensor and creating the TensorDataset**"
   ]
  },
  {
   "cell_type": "code",
   "execution_count": null,
   "metadata": {},
   "outputs": [],
   "source": [
    "train_dataset = TensorDataset(torch.FloatTensor(dataset), torch.LongTensor(dataset_label.values))"
   ]
  },
  {
   "cell_type": "markdown",
   "metadata": {},
   "source": [
    "**Initializing the model, seeting the criterion, optimizer, and learniong rate**"
   ]
  },
  {
   "cell_type": "code",
   "execution_count": null,
   "metadata": {},
   "outputs": [],
   "source": [
    "torch.manual_seed(110)\n",
    "model = MultilayerPerceptron()\n",
    "criterion = nn.CrossEntropyLoss()\n",
    "optimizer = torch.optim.Adam(model.parameters(), lr=0.001)"
   ]
  },
  {
   "cell_type": "markdown",
   "metadata": {},
   "source": [
    "**Do the training with the desired number of epochs and save the model with the highest accuracy**"
   ]
  },
  {
   "cell_type": "code",
   "execution_count": null,
   "metadata": {},
   "outputs": [],
   "source": [
    "trainloader = DataLoader(train_dataset, batch_size=128, shuffle=True)\n",
    "epochs = 10\n",
    "acc = 0\n",
    "for i in range(epochs):\n",
    "    i+=1\n",
    "    print(f'Training epoch {i}:')\n",
    "    \n",
    "    for b, (X_train, y_train) in enumerate(trainloader):\n",
    "        b+=1\n",
    "        if b % 5000 == 0:\n",
    "            print(f'Batch number {b}')\n",
    "        \n",
    "        y_pred = model(X_train)\n",
    "        loss = criterion(y_pred, y_train)\n",
    "\n",
    "        optimizer.zero_grad()\n",
    "        loss.backward()\n",
    "        optimizer.step()\n",
    "        \n",
    "    y_pred = model(torch.FloatTensor(dataset))\n",
    "    true = (torch.LongTensor(dataset_label.values) == torch.max(y_pred.data, 1)[1]).sum()\n",
    "    \n",
    "    print(f'epoch: {i:2}  loss: {loss.item():10.8f}  accuracy: {(true.item()/dataset_label.shape[0])*100:6.4f}')\n",
    "    if(true.item()/dataset_label.shape[0] > acc):\n",
    "        torch.save(model.state_dict(), \"DNN.pt\")\n",
    "        acc = true.item()/dataset_label.shape[0]\n",
    "        print(f'Model saved with accuracy: {acc*100:6.4f}')"
   ]
  }
 ],
 "metadata": {
  "kernelspec": {
   "display_name": "Python 3 (ipykernel)",
   "language": "python",
   "name": "python3"
  },
  "language_info": {
   "codemirror_mode": {
    "name": "ipython",
    "version": 3
   },
   "file_extension": ".py",
   "mimetype": "text/x-python",
   "name": "python",
   "nbconvert_exporter": "python",
   "pygments_lexer": "ipython3",
   "version": "3.8.10"
  }
 },
 "nbformat": 4,
 "nbformat_minor": 1
}
