{
 "cells": [
  {
   "cell_type": "code",
   "execution_count": null,
   "metadata": {},
   "outputs": [],
   "source": [
    "import torch\n",
    "import torch.nn as nn\n",
    "\n",
    "import numpy as np\n",
    "import pandas as pd\n",
    "from torch.utils.data import TensorDataset, DataLoader\n",
    "from sklearn.preprocessing import MinMaxScaler\n",
    "\n",
    "from Utils import MultilayerPerceptron, FGSM"
   ]
  },
  {
   "cell_type": "markdown",
   "metadata": {},
   "source": [
    "**Reading the Dataset**"
   ]
  },
  {
   "cell_type": "code",
   "execution_count": null,
   "metadata": {},
   "outputs": [],
   "source": [
    "dataset = pd.read_csv('./data.csv')\n",
    "dataset_label = pd.read_csv('./label.csv')"
   ]
  },
  {
   "cell_type": "markdown",
   "metadata": {},
   "source": [
    "**Normalizing the data wiith MinMax scaler**"
   ]
  },
  {
   "cell_type": "code",
   "execution_count": null,
   "metadata": {},
   "outputs": [],
   "source": [
    "scaler = MinMaxScaler()\n",
    "scaler.fit(dataset)\n",
    "dataset = scaler.transform(dataset)"
   ]
  },
  {
   "cell_type": "markdown",
   "metadata": {},
   "source": [
    "**Converting the dataset and labels to Torch Tensor and creating the TensorDataset**"
   ]
  },
  {
   "cell_type": "code",
   "execution_count": null,
   "metadata": {},
   "outputs": [],
   "source": [
    "train_dataset = TensorDataset(torch.FloatTensor(dataset), torch.LongTensor(dataset_label.values))"
   ]
  },
  {
   "cell_type": "markdown",
   "metadata": {},
   "source": [
    "**Loading the trained model**"
   ]
  },
  {
   "cell_type": "code",
   "execution_count": null,
   "metadata": {},
   "outputs": [],
   "source": [
    "criterion = nn.CrossEntropyLoss()\n",
    "model = MultilayerPerceptron()\n",
    "model.load_state_dict(torch.load('./DNN.pt'))\n",
    "model.eval()"
   ]
  },
  {
   "cell_type": "markdown",
   "metadata": {},
   "source": [
    "**Loading the mask for selecting features of each categories**"
   ]
  },
  {
   "cell_type": "code",
   "execution_count": null,
   "metadata": {},
   "outputs": [],
   "source": [
    "masks = pd.read_csv('./masks.csv')"
   ]
  },
  {
   "cell_type": "markdown",
   "metadata": {},
   "source": [
    "**Generating adversarial samples for each categories with the desired epsilon value**"
   ]
  },
  {
   "cell_type": "code",
   "execution_count": null,
   "metadata": {},
   "outputs": [],
   "source": [
    "testloader = DataLoader(train_dataset, batch_size=100000, shuffle=False)\n",
    "categories = ['ALL', 'FWD', 'BWD', 'FL', 'T', 'PH', 'PP', 'FWD_BWD', 'FWD_FL', 'BWD_FL', 'FWD_BWD_FL', 'PH_PP',\n",
    "              'T_PH_PP']\n",
    "epsilon = 0.001\n",
    "\n",
    "for cat in categories:\n",
    "    print(f'Generating adversarial samples for {cat} features:')\n",
    "    success = 0\n",
    "    detected_samples_number = 0\n",
    "    results = pd.DataFrame(columns=['True', 'Adv'])\n",
    "    \n",
    "    for b, (x, y) in enumerate(testloader):\n",
    "        \n",
    "        b += 1\n",
    "        print(f'Batch number: {b:3}')\n",
    "            \n",
    "        y_pred = model(x)\n",
    "        detected_samples_index = (torch.max(y_pred.data, 1)[1] == y).nonzero()\n",
    "        print(f'Detected samples for Bath number {b:3}: {detected_samples_index.shape[0]:6}')\n",
    "        detected_samples_number += detected_samples_index.shape[0]\n",
    "        \n",
    "        if detected_samples_index.shape[0] == 0:\n",
    "            print(\"No sample detected!\")\n",
    "            continue\n",
    "            \n",
    "        detected_samples = x[detected_samples_index].reshape(detected_samples_index.shape[0], 76)\n",
    "        detected_samples_labels = y[detected_samples_index].reshape(detected_samples_index.shape[0])\n",
    "        y_pred = model(detected_samples)\n",
    "\n",
    "        adv = FGSM(model, criterion, epsilon, detected_samples.clone().detach().requires_grad_(True), \n",
    "                   detected_samples_labels.clone().detach(),  mask=masks[masks['Type'] == cat].iloc[:, 1:].values[0])\n",
    "\n",
    "        y_adv = model(adv)\n",
    "\n",
    "        success_adv = (torch.max(y_pred.data, 1)[1] != torch.max(y_adv.data, 1)[1]).nonzero()\n",
    "        success += success_adv.shape[0]\n",
    "        \n",
    "        if success_adv.shape[0] != 0:\n",
    "            success_pred_data = y_pred[success_adv].reshape(success_adv.shape[0], 15)\n",
    "            success_adv_data = y_adv[success_adv].reshape(success_adv.shape[0], 15)\n",
    "            results = results.append(pd.DataFrame({'True': torch.max(success_pred_data.data, 1)[1],\n",
    "                                                   'Adv': torch.max(success_adv_data.data, 1)[1]}),\n",
    "                                     ignore_index=True)\n",
    "        \n",
    "        print(f'Generated Adv for Bath number {b:3}: {success_adv.shape[0]:8}')\n",
    "        print(f'All Generated Adv After Bath number {b:3}: {success:8}')\n",
    "        print()\n",
    "        \n",
    "    fname = './' + cat + '_' + str(epsilon)[2:] + '.csv'\n",
    "    results.to_csv(fname, index=False)"
   ]
  }
 ],
 "metadata": {
  "kernelspec": {
   "display_name": "Python 3 (ipykernel)",
   "language": "python",
   "name": "python3"
  },
  "language_info": {
   "codemirror_mode": {
    "name": "ipython",
    "version": 3
   },
   "file_extension": ".py",
   "mimetype": "text/x-python",
   "name": "python",
   "nbconvert_exporter": "python",
   "pygments_lexer": "ipython3",
   "version": "3.8.10"
  }
 },
 "nbformat": 4,
 "nbformat_minor": 1
}
